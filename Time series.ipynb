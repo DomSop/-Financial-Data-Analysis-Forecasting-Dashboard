{
 "cells": [
  {
   "cell_type": "code",
   "execution_count": 2,
   "metadata": {},
   "outputs": [],
   "source": [
    "import pandas as pd"
   ]
  },
  {
   "cell_type": "code",
   "execution_count": 3,
   "metadata": {},
   "outputs": [],
   "source": [
    "\n",
    "import numpy as np\n",
    "import plotly.express as px\n",
    "import dash\n",
    "from dash import dcc, html\n",
    "from dash.dependencies import Input, Output\n",
    "from sklearn.model_selection import train_test_split\n",
    "from sklearn.preprocessing import StandardScaler, LabelEncoder\n"
   ]
  },
  {
   "cell_type": "code",
   "execution_count": 4,
   "metadata": {},
   "outputs": [],
   "source": [
    "import tensorflow as tf"
   ]
  },
  {
   "cell_type": "code",
   "execution_count": 5,
   "metadata": {},
   "outputs": [],
   "source": [
    "from tensorflow.keras.models import Sequential\n",
    "from tensorflow.keras.layers import Dense, LSTM\n",
    "from statsmodels.tsa.arima.model import ARIMA"
   ]
  },
  {
   "cell_type": "markdown",
   "metadata": {},
   "source": [
    "## Step 1: Generate Synthetic Time-Series Financial Dataset"
   ]
  },
  {
   "cell_type": "code",
   "execution_count": 14,
   "metadata": {},
   "outputs": [],
   "source": [
    "np.random.seed(42)\n",
    "data_size = 5000\n",
    "date_range = pd.date_range(start=\"2010-01-01\", periods=data_size, freq=\"D\")\n",
    "\n",
    "df = pd.DataFrame({\n",
    "    \"Date\": date_range,\n",
    "    \"Customer_Age\": np.random.randint(18, 70, data_size),\n",
    "    \"Annual_Income\": np.random.randint(20000, 180000, data_size),\n",
    "    \"Spending_Score\": np.random.randint(1, 100, data_size),\n",
    "    \"Credit_Score\": np.random.randint(300, 950, data_size),\n",
    "    \"Loan_Amount\": np.random.randint(1000, 60000, data_size),\n",
    "    \"Default\": np.random.choice([\"Yes\", \"No\"], data_size, p=[0.2, 0.8]),  # Categorical Target\n",
    "    \"Stock_Price\": np.cumsum(np.random.randn(data_size) * 2 + 0.5) + 100  # Simulated Stock Market Prices\n",
    "})\n"
   ]
  },
  {
   "cell_type": "markdown",
   "metadata": {},
   "source": [
    "## Step 2: Data Cleaning & Preprocessing"
   ]
  },
  {
   "cell_type": "code",
   "execution_count": 15,
   "metadata": {},
   "outputs": [],
   "source": [
    "\n",
    "df.drop_duplicates(inplace=True)\n",
    "df.fillna(df.select_dtypes(include=[\"number\"]).median(), inplace=True)\n",
    "\n",
    "# Convert categorical target variable to numeric\n",
    "encoder = LabelEncoder()\n",
    "df[\"Default_Label\"] = encoder.fit_transform(df[\"Default\"])  # Yes = 1, No = 0\n",
    "\n",
    "# Normalize numerical features\n",
    "scaler = StandardScaler()\n",
    "numerical_cols = [\"Customer_Age\", \"Annual_Income\", \"Spending_Score\", \"Credit_Score\", \"Loan_Amount\", \"Stock_Price\"]\n",
    "df[numerical_cols] = scaler.fit_transform(df[numerical_cols])\n"
   ]
  },
  {
   "cell_type": "markdown",
   "metadata": {},
   "source": [
    "## Step 3: Train-Test Split for Machine Learning"
   ]
  },
  {
   "cell_type": "code",
   "execution_count": 16,
   "metadata": {},
   "outputs": [],
   "source": [
    "X = df[numerical_cols]\n",
    "y = df[\"Default_Label\"]\n",
    "X_train, X_test, y_train, y_test = train_test_split(X, y, test_size=0.2, random_state=42)"
   ]
  },
  {
   "cell_type": "markdown",
   "metadata": {},
   "source": [
    "## Step 4: Train a Neural Network Model for Loan Default Prediction"
   ]
  },
  {
   "cell_type": "code",
   "execution_count": 17,
   "metadata": {},
   "outputs": [
    {
     "name": "stderr",
     "output_type": "stream",
     "text": [
      "C:\\Users\\Dom3n\\AppData\\Local\\Packages\\PythonSoftwareFoundation.Python.3.11_qbz5n2kfra8p0\\LocalCache\\local-packages\\Python311\\site-packages\\keras\\src\\layers\\core\\dense.py:87: UserWarning:\n",
      "\n",
      "Do not pass an `input_shape`/`input_dim` argument to a layer. When using Sequential models, prefer using an `Input(shape)` object as the first layer in the model instead.\n",
      "\n"
     ]
    },
    {
     "data": {
      "text/plain": [
       "<keras.src.callbacks.history.History at 0x2378b9a1410>"
      ]
     },
     "execution_count": 17,
     "metadata": {},
     "output_type": "execute_result"
    }
   ],
   "source": [
    "model = Sequential([\n",
    "    Dense(32, activation=\"relu\", input_shape=(X_train.shape[1],)),\n",
    "    Dense(16, activation=\"relu\"),\n",
    "    Dense(1, activation=\"sigmoid\")\n",
    "])\n",
    "\n",
    "model.compile(optimizer=\"adam\", loss=\"binary_crossentropy\", metrics=[\"accuracy\"])\n",
    "model.fit(X_train, y_train, epochs=20, batch_size=32, verbose=0)\n"
   ]
  },
  {
   "cell_type": "markdown",
   "metadata": {},
   "source": [
    "## Step 5: Time-Series Forecasting Using ARIMA"
   ]
  },
  {
   "cell_type": "code",
   "execution_count": 18,
   "metadata": {},
   "outputs": [],
   "source": [
    "arima_model = ARIMA(df[\"Stock_Price\"], order=(5,1,0))\n",
    "fitted_arima = arima_model.fit()\n",
    "forecast_arima = fitted_arima.forecast(steps=30)  # 30-day forecast\n",
    "\n",
    "forecast_dates = pd.date_range(start=df[\"Date\"].iloc[-1], periods=31, freq=\"D\")[1:]\n",
    "forecast_df = pd.DataFrame({\"Date\": forecast_dates, \"Forecasted_Price\": forecast_arima})"
   ]
  },
  {
   "cell_type": "markdown",
   "metadata": {},
   "source": [
    "## Step 6: Time-Series Forecasting Using LSTM"
   ]
  },
  {
   "cell_type": "code",
   "execution_count": 19,
   "metadata": {},
   "outputs": [
    {
     "name": "stderr",
     "output_type": "stream",
     "text": [
      "C:\\Users\\Dom3n\\AppData\\Local\\Packages\\PythonSoftwareFoundation.Python.3.11_qbz5n2kfra8p0\\LocalCache\\local-packages\\Python311\\site-packages\\keras\\src\\layers\\rnn\\rnn.py:200: UserWarning:\n",
      "\n",
      "Do not pass an `input_shape`/`input_dim` argument to a layer. When using Sequential models, prefer using an `Input(shape)` object as the first layer in the model instead.\n",
      "\n"
     ]
    },
    {
     "name": "stdout",
     "output_type": "stream",
     "text": [
      "\u001b[1m1/1\u001b[0m \u001b[32m━━━━━━━━━━━━━━━━━━━━\u001b[0m\u001b[37m\u001b[0m \u001b[1m1s\u001b[0m 507ms/step\n"
     ]
    }
   ],
   "source": [
    "lstm_train = df[\"Stock_Price\"].values.reshape(-1, 1)\n",
    "scaler_lstm = StandardScaler()\n",
    "lstm_train_scaled = scaler_lstm.fit_transform(lstm_train)\n",
    "\n",
    "X_lstm, y_lstm = [], []\n",
    "for i in range(30, len(lstm_train_scaled)):\n",
    "    X_lstm.append(lstm_train_scaled[i-30:i, 0])\n",
    "    y_lstm.append(lstm_train_scaled[i, 0])\n",
    "\n",
    "X_lstm, y_lstm = np.array(X_lstm), np.array(y_lstm)\n",
    "X_train_lstm, X_test_lstm, y_train_lstm, y_test_lstm = train_test_split(X_lstm, y_lstm, test_size=0.2, random_state=42)\n",
    "\n",
    "lstm_model = Sequential([\n",
    "    LSTM(50, activation=\"relu\", return_sequences=True, input_shape=(X_lstm.shape[1], 1)),\n",
    "    LSTM(50, activation=\"relu\"),\n",
    "    Dense(1)\n",
    "])\n",
    "\n",
    "lstm_model.compile(optimizer=\"adam\", loss=\"mse\")\n",
    "lstm_model.fit(X_train_lstm, y_train_lstm, epochs=20, batch_size=32, verbose=0)\n",
    "\n",
    "future_lstm = lstm_model.predict(X_test_lstm[:30])  # LSTM Forecast\n",
    "future_lstm = scaler_lstm.inverse_transform(future_lstm)\n",
    "\n",
    "forecast_df[\"LSTM_Forecast\"] = future_lstm[:30]"
   ]
  },
  {
   "cell_type": "markdown",
   "metadata": {},
   "source": [
    "## Step 7: Create Interactive Dashboard with Dash"
   ]
  },
  {
   "cell_type": "code",
   "execution_count": 20,
   "metadata": {},
   "outputs": [
    {
     "data": {
      "text/html": [
       "\n",
       "        <iframe\n",
       "            width=\"100%\"\n",
       "            height=\"650\"\n",
       "            src=\"http://127.0.0.1:8060/\"\n",
       "            frameborder=\"0\"\n",
       "            allowfullscreen\n",
       "            \n",
       "        ></iframe>\n",
       "        "
      ],
      "text/plain": [
       "<IPython.lib.display.IFrame at 0x2379acf4250>"
      ]
     },
     "metadata": {},
     "output_type": "display_data"
    },
    {
     "name": "stderr",
     "output_type": "stream",
     "text": [
      "C:\\Users\\Dom3n\\AppData\\Local\\Packages\\PythonSoftwareFoundation.Python.3.11_qbz5n2kfra8p0\\LocalCache\\local-packages\\Python311\\site-packages\\statsmodels\\regression\\linear_model.py:1781: RuntimeWarning:\n",
      "\n",
      "divide by zero encountered in double_scalars\n",
      "\n",
      "C:\\Users\\Dom3n\\AppData\\Local\\Packages\\PythonSoftwareFoundation.Python.3.11_qbz5n2kfra8p0\\LocalCache\\local-packages\\Python311\\site-packages\\statsmodels\\regression\\linear_model.py:1781: RuntimeWarning:\n",
      "\n",
      "invalid value encountered in double_scalars\n",
      "\n"
     ]
    }
   ],
   "source": [
    "app = dash.Dash(__name__)\n",
    "\n",
    "app.layout = html.Div([\n",
    "    html.H1(\"Financial Data Analysis & Forecasting\"),\n",
    "    html.H3(\"Neural Network Loan Default Prediction Accuracy: {:.2f}\".format(model.evaluate(X_test, y_test, verbose=0)[1])),\n",
    "\n",
    "    dcc.Dropdown(\n",
    "        id=\"feature\",\n",
    "        options=[{\"label\": col, \"value\": col} for col in numerical_cols],\n",
    "        value=\"Annual_Income\"\n",
    "    ),\n",
    "\n",
    "    dcc.Graph(id=\"feature-vs-default\"),\n",
    "    dcc.Graph(id=\"stock-forecast\")\n",
    "])\n",
    "\n",
    "@app.callback(\n",
    "    Output(\"feature-vs-default\", \"figure\"),\n",
    "    Input(\"feature\", \"value\")\n",
    ")\n",
    "def update_graph(feature):\n",
    "    fig = px.scatter(df, x=feature, y=\"Default_Label\", color=\"Default\",\n",
    "                     title=f\"{feature} vs Default Probability\",\n",
    "                     trendline=\"ols\")\n",
    "    return fig\n",
    "\n",
    "@app.callback(\n",
    "    Output(\"stock-forecast\", \"figure\"),\n",
    "    Input(\"feature\", \"value\")\n",
    ")\n",
    "def update_forecast_plot(_):\n",
    "    fig = px.line(forecast_df, x=\"Date\", y=\"Forecasted_Price\", title=\"Stock Price Forecast (ARIMA)\",\n",
    "                  color_discrete_sequence=[\"blue\"])\n",
    "    fig.add_scatter(x=forecast_df[\"Date\"], y=forecast_df[\"LSTM_Forecast\"], mode=\"lines\", \n",
    "                    name=\"LSTM Forecast\", line=dict(color=\"red\"))\n",
    "    return fig\n",
    "\n",
    "if __name__ == \"__main__\":\n",
    "    app.run_server(debug=True, port=8060)"
   ]
  }
 ],
 "metadata": {
  "kernelspec": {
   "display_name": "Python 3",
   "language": "python",
   "name": "python3"
  },
  "language_info": {
   "codemirror_mode": {
    "name": "ipython",
    "version": 3
   },
   "file_extension": ".py",
   "mimetype": "text/x-python",
   "name": "python",
   "nbconvert_exporter": "python",
   "pygments_lexer": "ipython3",
   "version": "3.11.9"
  }
 },
 "nbformat": 4,
 "nbformat_minor": 2
}
